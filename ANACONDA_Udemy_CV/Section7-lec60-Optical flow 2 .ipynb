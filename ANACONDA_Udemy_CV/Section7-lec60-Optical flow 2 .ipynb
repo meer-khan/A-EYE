{
 "cells": [
  {
   "cell_type": "code",
   "execution_count": 2,
   "metadata": {},
   "outputs": [],
   "source": [
    "import numpy as np \n",
    "import cv2 as cv \n",
    "import matplotlib.pyplot as plt"
   ]
  },
  {
   "cell_type": "code",
   "execution_count": null,
   "metadata": {},
   "outputs": [],
   "source": [
    "cap = cv.VideoCapture(0)\n",
    "\n",
    "ret , frame1 = cap.read()\n",
    "\n",
    "# frame1 = cv.imread(\"DATA/giraffes.jpg\")\n",
    "# plt.imshow(frame1)\n",
    "\n",
    "prvsimg = cv.cvtColor(frame1,cv.COLOR_BGR2GRAY)\n",
    "\n",
    "hsv_mask = np.zeros_like(frame1)\n",
    "\n",
    "hsv_mask[:,:,1] = 255\n",
    "plt.imshow(hsv_mask)\n",
    "\n",
    "while True:\n",
    "    ret , frame2 = cap.read()\n",
    "    nextimg = cv.cvtColor(frame2,cv.COLOR_BGR2GRAY)\n",
    "    \n",
    "    flow = cv.calcOpticalFlowFarneback(prvsimg,nextimg,None,0.5,3,15,3,5,1.2,0)\n",
    "    \n",
    "    mag , ang = cv.cartToPolar(flow[:,:,0],flow[:,:,1],angleInDegrees = True)\n",
    "    \n",
    "    hsv_mask[:,:,0] = ang/2\n",
    "    \n",
    "    hsv_mask[:,:,2] = cv.normalize(mag,None , 0,255,cv.NORM_MINMAX)\n",
    "    \n",
    "    bgr = cv.cvtColor(hsv_mask,cv.COLOR_HSV2BGR)\n",
    "    \n",
    "    cv.imshow('frame',bgr)\n",
    "    \n",
    "    if cv.waitKey(1) & 0xFF == 'q':\n",
    "        break\n",
    "    \n",
    "\n",
    "cap.release()\n",
    "cv.destroyAllWindows()"
   ]
  },
  {
   "cell_type": "code",
   "execution_count": null,
   "metadata": {},
   "outputs": [],
   "source": []
  }
 ],
 "metadata": {
  "kernelspec": {
   "display_name": "Python 3",
   "language": "python",
   "name": "python3"
  },
  "language_info": {
   "codemirror_mode": {
    "name": "ipython",
    "version": 3
   },
   "file_extension": ".py",
   "mimetype": "text/x-python",
   "name": "python",
   "nbconvert_exporter": "python",
   "pygments_lexer": "ipython3",
   "version": "3.6.6"
  }
 },
 "nbformat": 4,
 "nbformat_minor": 2
}
