{
 "cells": [
  {
   "cell_type": "code",
   "execution_count": 2,
   "metadata": {},
   "outputs": [],
   "source": [
    "import numpy as np \n",
    "import cv2 as cv \n",
    "import matplotlib.pyplot as plt "
   ]
  },
  {
   "cell_type": "code",
   "execution_count": 3,
   "metadata": {},
   "outputs": [],
   "source": [
    "img1 = cv.imread(\"DATA/real_chessboard.jpg\")\n",
    "img1 = cv.cvtColor(img1,cv.COLOR_BGR2RGB)\n",
    "img1gray= cv.cvtColor(img1,cv.COLOR_BGR2GRAY)\n",
    "\n",
    "\n",
    "img2 = cv.imread(\"DATA/flat_chessboard.png\")\n",
    "img2 = cv.cvtColor(img2,cv.COLOR_BGR2RGB)\n",
    "img2gray = cv.cvtColor(img2,cv.COLOR_BGR2GRAY)"
   ]
  },
  {
   "cell_type": "code",
   "execution_count": 4,
   "metadata": {},
   "outputs": [
    {
     "data": {
      "text/plain": [
       "<matplotlib.image.AxesImage at 0x20b9e06b518>"
      ]
     },
     "execution_count": 4,
     "metadata": {},
     "output_type": "execute_result"
    },
    {
     "data": {
      "image/png": "[encoded data removed]",
      "text/plain": [
       "<Figure size 432x288 with 1 Axes>"
      ]
     },
     "metadata": {
      "needs_background": "light"
     },
     "output_type": "display_data"
    }
   ],
   "source": [
    "img3 = cv.goodFeaturesToTrack(img2gray,100000,0.01,10)\n",
    "\n",
    "# converting into int\n",
    "\n",
    "img3 = np.int0(img3)\n",
    "\n",
    "for i in img3:\n",
    "    x,y = i.ravel()\n",
    "    cv.circle(img2,(x,y),2,(255,0,0),-1)\n",
    "\n",
    "plt.imshow(img2)"
   ]
  },
  {
   "cell_type": "code",
   "execution_count": 28,
   "metadata": {},
   "outputs": [
    {
     "data": {
      "text/plain": [
       "array([178,  91])"
      ]
     },
     "execution_count": 28,
     "metadata": {},
     "output_type": "execute_result"
    }
   ],
   "source": [
    "# Applying Shi-Tomasi on real chess board image\n",
    "\n",
    "img4 = cv.goodFeaturesToTrack(img1gray,1,0.01,10)\n",
    "\n",
    "img4 = np.int32(img4)\n",
    "\n",
    "img4\n",
    "\n",
    "len(img4)\n",
    "x=img4.ravel()\n",
    "x\n",
    "\n",
    "# for i in img4:\n",
    "#     x,y = i.ravel()\n",
    "#     cv.circle(img1,(x,y),2,(255,0,0),2)\n",
    "\n",
    "# plt.imshow(img1)"
   ]
  },
  {
   "cell_type": "code",
   "execution_count": null,
   "metadata": {},
   "outputs": [],
   "source": []
  },
  {
   "cell_type": "code",
   "execution_count": null,
   "metadata": {},
   "outputs": [],
   "source": []
  }
 ],
 "metadata": {
  "kernelspec": {
   "display_name": "Python 3",
   "language": "python",
   "name": "python3"
  },
  "language_info": {
   "codemirror_mode": {
    "name": "ipython",
    "version": 3
   },
   "file_extension": ".py",
   "mimetype": "text/x-python",
   "name": "python",
   "nbconvert_exporter": "python",
   "pygments_lexer": "ipython3",
   "version": "3.6.6"
  }
 },
 "nbformat": 4,
 "nbformat_minor": 2
}
