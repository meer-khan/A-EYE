{
 "cells": [
  {
   "cell_type": "code",
   "execution_count": 1,
   "metadata": {},
   "outputs": [],
   "source": [
    "import numpy as np \n",
    "import cv2 as cv \n",
    "import matplotlib.pyplot as plt "
   ]
  },
  {
   "cell_type": "code",
   "execution_count": 5,
   "metadata": {},
   "outputs": [],
   "source": [
    "################\n",
    "#######FUNCTION\n",
    "\n",
    "def drawingOnImage(event,x,y,flags, params):\n",
    "    if event == cv.EVENT_LBUTTONUP:\n",
    "        cv.circle(img, (x,y), radius= 20 ,color = (255,255,0), thickness = -1)\n",
    "\n",
    "cv.namedWindow(winname = 'image')\n",
    "cv.setMouseCallback('image', drawingOnImage)\n",
    "\n",
    "\n",
    "\n",
    "######### \n",
    "\n",
    "img = np.zeros(shape = (512,512,3) , dtype = np.uint8)\n",
    "\n",
    "while True:\n",
    "    cv.imshow(\"image\", img)\n",
    "    \n",
    "    if cv.waitKey(1) & 0xFF == 27:\n",
    "        break \n",
    "cv.destroyAllWindows()"
   ]
  },
  {
   "cell_type": "code",
   "execution_count": null,
   "metadata": {},
   "outputs": [],
   "source": []
  },
  {
   "cell_type": "code",
   "execution_count": null,
   "metadata": {},
   "outputs": [],
   "source": []
  }
 ],
 "metadata": {
  "kernelspec": {
   "display_name": "Python 3",
   "language": "python",
   "name": "python3"
  },
  "language_info": {
   "codemirror_mode": {
    "name": "ipython",
    "version": 3
   },
   "file_extension": ".py",
   "mimetype": "text/x-python",
   "name": "python",
   "nbconvert_exporter": "python",
   "pygments_lexer": "ipython3",
   "version": "3.6.6"
  }
 },
 "nbformat": 4,
 "nbformat_minor": 2
}
