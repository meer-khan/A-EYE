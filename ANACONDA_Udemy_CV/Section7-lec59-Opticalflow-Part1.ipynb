{
 "cells": [
  {
   "cell_type": "code",
   "execution_count": null,
   "metadata": {},
   "outputs": [],
   "source": [
    "import numpy as np \n",
    "import cv2 as cv \n",
    "import matplotlib.pyplot as plt "
   ]
  },
  {
   "cell_type": "code",
   "execution_count": null,
   "metadata": {},
   "outputs": [],
   "source": [
    "# setting parameters for SHI-Tomasi Corner Detection \n",
    "\n",
    "cornertrackparams = dict(maxCorners = 10 , qualityLevel = 0.3, minDistance = 7, blockSize = 7)"
   ]
  },
  {
   "cell_type": "code",
   "execution_count": null,
   "metadata": {},
   "outputs": [],
   "source": [
    "# LUCAS KANADE params \n",
    "# maxLevel --> lucas kanade use image pyramids\n",
    "lcparams = dict(winSize = (200,200), maxLevel= 2, criteria = (cv.TERM_CRITERIA_EPS | cv.TERM_CRITERIA_COUNT,10,0.3))"
   ]
  },
  {
   "cell_type": "code",
   "execution_count": null,
   "metadata": {},
   "outputs": [],
   "source": [
    "cap = cv.VideoCapture(0)\n",
    "\n",
    "ret , prevframe = cap.read()\n",
    "\n",
    "prevgray = cv.cvtColor(prevframe, cv.COLOR_BGR2GRAY)\n",
    "\n",
    "# POINTS TO TRACK\n",
    "\n",
    "prevPTS = cv.goodFeaturesToTrack(prevgray,mask=None , **cornertrackparams)\n",
    "\n",
    "mask= np.zeros_like(prevframe)\n",
    "\n",
    "while True:\n",
    "    ret , frame = cap.read()\n",
    "    \n",
    "    framegray = cv.cvtColor(frame,cv.COLOR_BGR2GRAY)\n",
    "    \n",
    "    nextPTS , status , err = cv.calcOpticalFlowPyrLK(prevgray,framegray,prevPTS,None , **lcparams)\n",
    "    \n",
    "    goodnew = nextPTS[status==1]\n",
    "    goodprev = prevPTS[status==1]\n",
    "    \n",
    "    \n",
    "    print(\"GOODNEW\")\n",
    "    print( goodnew)\n",
    "    \n",
    "    \n",
    "    print(\"GOODPREV\")\n",
    "    print( goodprev)\n",
    "    \n",
    "    for i, (new,prev) in enumerate(zip(goodnew,goodprev)):\n",
    "        xnew,ynew = new.ravel()\n",
    "        xprev,yprev = prev.ravel()\n",
    "        \n",
    "        print(\"XNEW\")\n",
    "        print(xnew)\n",
    "        mask = cv.line(mask,(xnew,ynew),(xprev,yprev),(0,255,0),3)\n",
    "        \n",
    "        frame = cv.circle(frame,(xnew,ynew),8,(0,0,255),-1)\n",
    "        \n",
    "    img = cv.add(frame,mask)\n",
    "    cv.imshow('tracking', img)\n",
    "    \n",
    "    k = cv.waitKey(1) & 0xFF\n",
    "    if k == 27:\n",
    "        break\n",
    "    \n",
    "    prevgray = framegray.copy()\n",
    "    \n",
    "    prevPTS = goodnew.reshape(-1,1,2)\n",
    "    \n",
    "\n",
    "cv.destroyAllWindows\n",
    "cap.release()\n",
    "\n"
   ]
  },
  {
   "cell_type": "code",
   "execution_count": null,
   "metadata": {},
   "outputs": [],
   "source": []
  }
 ],
 "metadata": {
  "kernelspec": {
   "display_name": "Python 3",
   "language": "python",
   "name": "python3"
  },
  "language_info": {
   "codemirror_mode": {
    "name": "ipython",
    "version": 3
   },
   "file_extension": ".py",
   "mimetype": "text/x-python",
   "name": "python",
   "nbconvert_exporter": "python",
   "pygments_lexer": "ipython3",
   "version": "3.6.6"
  }
 },
 "nbformat": 4,
 "nbformat_minor": 2
}
