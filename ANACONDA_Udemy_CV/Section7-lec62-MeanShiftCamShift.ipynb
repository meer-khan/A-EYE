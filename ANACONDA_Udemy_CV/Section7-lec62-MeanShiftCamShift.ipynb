{
 "cells": [
  {
   "cell_type": "code",
   "execution_count": 1,
   "metadata": {},
   "outputs": [],
   "source": [
    "import numpy as np \n",
    "import cv2 as cv \n",
    "import matplotlib.pyplot as plt "
   ]
  },
  {
   "cell_type": "code",
   "execution_count": null,
   "metadata": {},
   "outputs": [],
   "source": [
    "cap = cv.VideoCapture(0)\n",
    "\n",
    "ret , frame = cap.read()\n",
    "\n",
    "# frame = cv.imread(\"DATA/Nadia_Murad.jpg\")\n",
    "# frame = cv.cvtColor(frame,cv.COLOR_BGR2RGB)\n",
    "\n",
    "face_cascade = cv.CascadeClassifier(\"DATA/haarcascades/haarcascade_frontalface_default.xml\")\n",
    "\n",
    "face_rects = face_cascade.detectMultiScale(frame)\n",
    "\n",
    "(facex,facey,w,h)=tuple(face_rects[0])\n",
    "\n",
    "track_window = (facex,facey,w,h)\n",
    "\n",
    "roi = frame[facey:facey+h,facex:facex+w]\n",
    "\n",
    "hsv_roi = cv.cvtColor(roi,cv.COLOR_BGR2HSV)\n",
    "\n",
    "roi_hist = cv.calcHist([hsv_roi],[0],None,[180],[0,180])\n",
    "\n",
    "cv.normalize(roi_hist,roi_hist,0,255,cv.NORM_MINMAX)\n",
    "\n",
    "\n",
    "term_crit = (cv.TERM_CRITERIA_EPS|cv.TERM_CRITERIA_COUNT,10,1)\n",
    "\n",
    "while True:\n",
    "        ret , frame = cap.read()\n",
    "    \n",
    "#     if ret == True:\n",
    "        \n",
    "        hsv = cv.cvtColor(frame,cv.COLOR_BGR2HSV)\n",
    "        dst = cv.calcBackProject([hsv],[0],roi_hist,[0,180],1)\n",
    "        \n",
    "        \n",
    "        ret,track_window = cv.meanShift(dst,track_window,term_crit)\n",
    "        \n",
    "        x,y,w,h = track_window\n",
    "        img2=cv.rectangle(frame,(x,y),(x+w,y+h),(0,0,255),5)\n",
    "        \n",
    "        \n",
    "        cv.imshow('img',img2)\n",
    "        \n",
    "        k = cv.waitKey(0) & 0xFF\n",
    "        if k==27 :\n",
    "            \n",
    "            break\n",
    "#     else:\n",
    "#         break\n",
    "        \n",
    "cv.destroyAllWindows()\n",
    "cap.release()\n"
   ]
  },
  {
   "cell_type": "code",
   "execution_count": 178,
   "metadata": {},
   "outputs": [
    {
     "name": "stdout",
     "output_type": "stream",
     "text": [
      "[[[ 10 100 100]\n",
      "  [  0   0   0]\n",
      "  [  0   0   0]\n",
      "  [  0   0   0]\n",
      "  [  0   0   0]]\n",
      "\n",
      " [[  0   0   0]\n",
      "  [  0   0   0]\n",
      "  [  0   0   0]\n",
      "  [  0   0   0]\n",
      "  [  0   0   0]]\n",
      "\n",
      " [[  0   0   0]\n",
      "  [  0   0   0]\n",
      "  [  0   0   0]\n",
      "  [  0   0   0]\n",
      "  [  0   0   0]]\n",
      "\n",
      " [[  0   0   0]\n",
      "  [  0   0   0]\n",
      "  [  0   0   0]\n",
      "  [  0   0   0]\n",
      "  [  0   0   0]]\n",
      "\n",
      " [[  0   0   0]\n",
      "  [  0   0   0]\n",
      "  [  0   0   0]\n",
      "  [  0   0   0]\n",
      "  [  0   0   0]]]\n"
     ]
    },
    {
     "data": {
      "text/plain": [
       "<matplotlib.image.AxesImage at 0x1fe946ed128>"
      ]
     },
     "execution_count": 178,
     "metadata": {},
     "output_type": "execute_result"
    },
    {
     "data": {
      "image/png": "[encoded data removed]",
      "text/plain": [
       "<Figure size 432x288 with 1 Axes>"
      ]
     },
     "metadata": {
      "needs_background": "light"
     },
     "output_type": "display_data"
    }
   ],
   "source": [
    "# cv.rectangle(frame,(facex,facey),(facex+w,facey+h),(255,0,0),5,)\n",
    "# frame1 = frame[facey:facey+h,facex:facex+w]\n",
    "# plt.imshow(frame1)\n",
    "\n",
    "red = np.uint8([[[112,125,220]]])\n",
    "arr = np.zeros((5,5,3))\n",
    "arr = arr.astype(np.uint8)\n",
    "arr[0][0][0] = 10\n",
    "arr[0][0][1] = 100\n",
    "arr[0][0][2] = 100\n",
    "arr\n",
    "print(arr)\n",
    "# red = cv.cvtColor(red,cv.COLOR_BGR2HSV)\n",
    "plt.imshow(arr)\n",
    "# red"
   ]
  },
  {
   "cell_type": "code",
   "execution_count": 189,
   "metadata": {},
   "outputs": [
    {
     "data": {
      "text/plain": [
       "array([[[ 23, 102, 100],\n",
       "        [  0,   0,   0],\n",
       "        [  0,   0,   0],\n",
       "        [  0,   0,   0],\n",
       "        [  0,   0,   0]],\n",
       "\n",
       "       [[  0,   0,   0],\n",
       "        [  0,   0,   0],\n",
       "        [  0,   0,   0],\n",
       "        [  0,   0,   0],\n",
       "        [  0,   0,   0]],\n",
       "\n",
       "       [[  0,   0,   0],\n",
       "        [  0,   0,   0],\n",
       "        [  0,   0,   0],\n",
       "        [  0,   0,   0],\n",
       "        [  0,   0,   0]],\n",
       "\n",
       "       [[  0,   0,   0],\n",
       "        [  0,   0,   0],\n",
       "        [  0,   0,   0],\n",
       "        [  0,   0,   0],\n",
       "        [  0,   0,   0]],\n",
       "\n",
       "       [[  0,   0,   0],\n",
       "        [  0,   0,   0],\n",
       "        [  0,   0,   0],\n",
       "        [  0,   0,   0],\n",
       "        [  0,   0,   0]]], dtype=uint8)"
      ]
     },
     "execution_count": 189,
     "metadata": {},
     "output_type": "execute_result"
    }
   ],
   "source": [
    "# plt.imshow(frame)\n",
    "# print(facex)\n",
    "# print(facey)\n",
    "# print(w)\n",
    "# print(h)\n",
    "arr[0][0][0] = 60\n",
    "arr[0][0][1] = 90\n",
    "arr[0][0][2] = 100\n",
    "arrrr = cv.cvtColor(arr,cv.COLOR_BGR2HSV)\n",
    "arrrr\n",
    "# plt.imshow(arrrr)"
   ]
  },
  {
   "cell_type": "code",
   "execution_count": 38,
   "metadata": {},
   "outputs": [
    {
     "data": {
      "text/plain": [
       "418"
      ]
     },
     "execution_count": 38,
     "metadata": {},
     "output_type": "execute_result"
    }
   ],
   "source": [
    "142+276"
   ]
  },
  {
   "cell_type": "code",
   "execution_count": 39,
   "metadata": {},
   "outputs": [
    {
     "data": {
      "text/plain": [
       "331"
      ]
     },
     "execution_count": 39,
     "metadata": {},
     "output_type": "execute_result"
    }
   ],
   "source": [
    "55+276"
   ]
  },
  {
   "cell_type": "code",
   "execution_count": null,
   "metadata": {},
   "outputs": [],
   "source": []
  }
 ],
 "metadata": {
  "kernelspec": {
   "display_name": "Python 3",
   "language": "python",
   "name": "python3"
  },
  "language_info": {
   "codemirror_mode": {
    "name": "ipython",
    "version": 3
   },
   "file_extension": ".py",
   "mimetype": "text/x-python",
   "name": "python",
   "nbconvert_exporter": "python",
   "pygments_lexer": "ipython3",
   "version": "3.6.6"
  }
 },
 "nbformat": 4,
 "nbformat_minor": 2
}
